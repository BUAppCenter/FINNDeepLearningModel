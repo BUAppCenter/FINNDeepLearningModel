{
 "cells": [
  {
   "cell_type": "code",
   "execution_count": null,
   "id": "119a2a4d-88b4-4d1e-9a82-bec7a5f27fc5",
   "metadata": {},
   "outputs": [],
   "source": [
    "from qonnx.core.modelwrapper import ModelWrapper\n",
    "from qonnx.core.datatype import DataType\n",
    "from finn.transformation.qonnx.convert_qonnx_to_finn import ConvertQONNXtoFINN\n",
    "\n",
    "# 모델 파일 불러오기\n",
    "model = ModelWrapper(\"plz_work (1).onnx\")\n",
    "# 모델의 특정 텐서에 대하여 데이터 타입 설정\n",
    "# set_tensor_datatype(첫 번째 입력 텐서이름, 타입 지정)\n",
    "model.set_tensor_datatype(model.graph.input[0].name, DataType[\"BIPOLAR\"])\n",
    "# FINN으로 변환\n",
    "model = model.transform(ConvertQONNXtoFINN())\n",
    "# 모델 저장\n",
    "model.save('plz_work_plz.onnx')\n",
    "# Debug\n",
    "print(\"Model saved\")"
   ]
  }
 ],
 "metadata": {
  "kernelspec": {
   "display_name": "Python 3 (ipykernel)",
   "language": "python",
   "name": "python3"
  },
  "language_info": {
   "codemirror_mode": {
    "name": "ipython",
    "version": 3
   },
   "file_extension": ".py",
   "mimetype": "text/x-python",
   "name": "python",
   "nbconvert_exporter": "python",
   "pygments_lexer": "ipython3",
   "version": "3.10.12"
  }
 },
 "nbformat": 4,
 "nbformat_minor": 5
}
